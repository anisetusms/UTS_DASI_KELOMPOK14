{
 "cells": [
  {
   "cell_type": "code",
   "execution_count": 1,
   "id": "b3987ce9-5f5b-477b-9d84-61fb6b5d4569",
   "metadata": {},
   "outputs": [],
   "source": [
    "import pandas as pd"
   ]
  },
  {
   "cell_type": "code",
   "execution_count": 2,
   "id": "e973e922-ebf7-4e77-b218-467e89315623",
   "metadata": {},
   "outputs": [],
   "source": [
    "df = pd.read_csv(\"top5-players.csv\")"
   ]
  },
  {
   "cell_type": "code",
   "execution_count": 3,
   "id": "e3d52394-367b-4514-a66f-e504661f88d7",
   "metadata": {},
   "outputs": [],
   "source": [
    "# 2. Buat mapping nama kolom\n",
    "rename_columns = {\n",
    "    \"Rk\": \"Rank\",\n",
    "    \"Player\": \"Player_Name\",\n",
    "    \"Nation\": \"Nationality\",\n",
    "    \"Pos\": \"Position\",\n",
    "    \"Squad\": \"Club_Team\",\n",
    "    \"Comp\": \"Competition\",\n",
    "    \"Age\": \"Age\",\n",
    "    \"Born\": \"Year_Born\",\n",
    "    \"MP\": \"Matches_Played\",\n",
    "    \"Starts\": \"Matches_Started\",\n",
    "    \"Min\": \"Minutes_Played\",\n",
    "    \"90s\": \"Matches_Per_90\",\n",
    "    \"Gls\": \"Goals\",\n",
    "    \"Ast\": \"Assists\",\n",
    "    \"G+A\": \"Goals_and_Assists\",\n",
    "    \"G-PK\": \"Goals_Without_Penalty\",\n",
    "    \"PK\": \"Penalty_Goals\",\n",
    "    \"PKatt\": \"Penalty_Attempts\",\n",
    "    \"CrdY\": \"Yellow_Cards\",\n",
    "    \"CrdR\": \"Red_Cards\",\n",
    "    \"xG\": \"Expected_Goals\",\n",
    "    \"npxG\": \"Non_Penalty_Expected_Goals\",\n",
    "    \"xAG\": \"Expected_Assisted_Goals\",\n",
    "    \"npxG+xAG\": \"Non_Penalty_xG_Plus_xAG\",\n",
    "    \"PrgC\": \"Progressive_Carries\",\n",
    "    \"PrgP\": \"Progressive_Passes\",\n",
    "    \"PrgR\": \"Progressive_Receptions\",\n",
    "    \"Gls_90\": \"Goals_per_90\",\n",
    "    \"Ast_90\": \"Assists_per_90\",\n",
    "    \"G+A_90\": \"Goals_and_Assists_per_90\",\n",
    "    \"G-PK_90\": \"Goals_Without_Penalty_per_90\",\n",
    "    \"G+A-PK_90\": \"Goals_and_Assists_Without_Penalty_per_90\",\n",
    "    \"xG_90\": \"Expected_Goals_per_90\",\n",
    "    \"xAG_90\": \"Expected_Assisted_Goals_per_90\",\n",
    "    \"xG+xAG_90\": \"Total_Expected_Goals_and_Assists_per_90\",\n",
    "    \"npxG_90\": \"Non_Penalty_Expected_Goals_per_90\",\n",
    "    \"npxG+xAG_90\": \"Non_Penalty_Total_Expected_Goals_and_Assists_per_90\"\n",
    "}"
   ]
  },
  {
   "cell_type": "code",
   "execution_count": 4,
   "id": "95221a29-c1a8-4ad5-b827-4f0577f35323",
   "metadata": {},
   "outputs": [],
   "source": [
    "# 3. Terapkan perubahan nama kolom\n",
    "df.rename(columns=rename_columns, inplace=True)"
   ]
  },
  {
   "cell_type": "code",
   "execution_count": 5,
   "id": "af2a9890-bd45-44ef-8a7b-5dd9c91525c3",
   "metadata": {},
   "outputs": [],
   "source": [
    "# 4. Simpan dataset hasil rename\n",
    "df.to_csv(\"top5-players-Europe.csv\", index=False)\n"
   ]
  },
  {
   "cell_type": "code",
   "execution_count": 6,
   "id": "9f7f1dbf-a06a-4088-af87-70e6aeef21d7",
   "metadata": {},
   "outputs": [
    {
     "name": "stdout",
     "output_type": "stream",
     "text": [
      "Kolom berhasil diubah! Jumlah kolom: 37\n",
      "['Rank', 'Player_Name', 'Nationality', 'Position', 'Club_Team', 'Competition', 'Age', 'Year_Born', 'Matches_Played', 'Matches_Started', 'Minutes_Played', 'Matches_Per_90', 'Goals', 'Assists', 'Goals_and_Assists', 'Goals_Without_Penalty', 'Penalty_Goals', 'Penalty_Attempts', 'Yellow_Cards', 'Red_Cards', 'Expected_Goals', 'Non_Penalty_Expected_Goals', 'Expected_Assisted_Goals', 'Non_Penalty_xG_Plus_xAG', 'Progressive_Carries', 'Progressive_Passes', 'Progressive_Receptions', 'Goals_per_90', 'Assists_per_90', 'Goals_and_Assists_per_90', 'Goals_Without_Penalty_per_90', 'Goals_and_Assists_Without_Penalty_per_90', 'Expected_Goals_per_90', 'Expected_Assisted_Goals_per_90', 'Total_Expected_Goals_and_Assists_per_90', 'Non_Penalty_Expected_Goals_per_90', 'Non_Penalty_Total_Expected_Goals_and_Assists_per_90']\n"
     ]
    }
   ],
   "source": [
    "# 5. Cek hasil\n",
    "print(\"Kolom berhasil diubah! Jumlah kolom:\", len(df.columns))\n",
    "print(df.columns.tolist())"
   ]
  },
  {
   "cell_type": "code",
   "execution_count": null,
   "id": "81e8c4c4-656a-45cd-864d-4f979019a1ca",
   "metadata": {},
   "outputs": [],
   "source": []
  }
 ],
 "metadata": {
  "kernelspec": {
   "display_name": "Python 3 (ipykernel)",
   "language": "python",
   "name": "python3"
  },
  "language_info": {
   "codemirror_mode": {
    "name": "ipython",
    "version": 3
   },
   "file_extension": ".py",
   "mimetype": "text/x-python",
   "name": "python",
   "nbconvert_exporter": "python",
   "pygments_lexer": "ipython3",
   "version": "3.12.4"
  }
 },
 "nbformat": 4,
 "nbformat_minor": 5
}
